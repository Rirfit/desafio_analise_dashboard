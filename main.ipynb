{
 "cells": [
  {
   "cell_type": "markdown",
   "metadata": {},
   "source": [
    "Instalando pacotes que serão utilizados"
   ]
  },
  {
   "cell_type": "code",
   "execution_count": 12,
   "metadata": {},
   "outputs": [
    {
     "name": "stdout",
     "output_type": "stream",
     "text": [
      "Requirement already satisfied: pandas in c:\\python312\\lib\\site-packages (2.2.3)\n",
      "Requirement already satisfied: openpyxl in c:\\python312\\lib\\site-packages (3.1.5)\n",
      "Requirement already satisfied: mysql-connector-python in c:\\python312\\lib\\site-packages (9.2.0)\n",
      "Requirement already satisfied: sqlalchemy in c:\\python312\\lib\\site-packages (2.0.39)\n",
      "Requirement already satisfied: pymysql in c:\\python312\\lib\\site-packages (1.1.1)\n",
      "Requirement already satisfied: requests in c:\\python312\\lib\\site-packages (2.32.3)\n",
      "Requirement already satisfied: xlrd in c:\\python312\\lib\\site-packages (1.2.0)\n",
      "Requirement already satisfied: dash in c:\\python312\\lib\\site-packages (3.0.1)\n",
      "Requirement already satisfied: cryptography in c:\\python312\\lib\\site-packages (44.0.2)\n",
      "Requirement already satisfied: numpy>=1.26.0 in c:\\python312\\lib\\site-packages (from pandas) (2.2.4)\n",
      "Requirement already satisfied: python-dateutil>=2.8.2 in c:\\python312\\lib\\site-packages (from pandas) (2.9.0.post0)\n",
      "Requirement already satisfied: pytz>=2020.1 in c:\\python312\\lib\\site-packages (from pandas) (2025.1)\n",
      "Requirement already satisfied: tzdata>=2022.7 in c:\\python312\\lib\\site-packages (from pandas) (2025.2)\n",
      "Requirement already satisfied: et-xmlfile in c:\\python312\\lib\\site-packages (from openpyxl) (2.0.0)\n",
      "Requirement already satisfied: greenlet!=0.4.17 in c:\\python312\\lib\\site-packages (from sqlalchemy) (3.1.1)\n",
      "Requirement already satisfied: typing-extensions>=4.6.0 in c:\\python312\\lib\\site-packages (from sqlalchemy) (4.12.2)\n",
      "Requirement already satisfied: charset-normalizer<4,>=2 in c:\\python312\\lib\\site-packages (from requests) (3.4.0)\n",
      "Requirement already satisfied: idna<4,>=2.5 in c:\\python312\\lib\\site-packages (from requests) (3.10)\n",
      "Requirement already satisfied: urllib3<3,>=1.21.1 in c:\\python312\\lib\\site-packages (from requests) (2.2.3)\n",
      "Requirement already satisfied: certifi>=2017.4.17 in c:\\python312\\lib\\site-packages (from requests) (2024.8.30)\n",
      "Requirement already satisfied: Flask<3.1,>=1.0.4 in c:\\python312\\lib\\site-packages (from dash) (3.0.3)\n",
      "Requirement already satisfied: Werkzeug<3.1 in c:\\python312\\lib\\site-packages (from dash) (3.0.6)\n",
      "Requirement already satisfied: plotly>=5.0.0 in c:\\python312\\lib\\site-packages (from dash) (6.0.1)\n",
      "Requirement already satisfied: importlib-metadata in c:\\python312\\lib\\site-packages (from dash) (8.6.1)\n",
      "Requirement already satisfied: retrying in c:\\python312\\lib\\site-packages (from dash) (1.3.4)\n",
      "Requirement already satisfied: nest-asyncio in c:\\python312\\lib\\site-packages (from dash) (1.6.0)\n",
      "Requirement already satisfied: setuptools in c:\\python312\\lib\\site-packages (from dash) (75.2.0)\n",
      "Requirement already satisfied: cffi>=1.12 in c:\\python312\\lib\\site-packages (from cryptography) (1.17.1)\n",
      "Requirement already satisfied: pycparser in c:\\python312\\lib\\site-packages (from cffi>=1.12->cryptography) (2.22)\n",
      "Requirement already satisfied: Jinja2>=3.1.2 in c:\\python312\\lib\\site-packages (from Flask<3.1,>=1.0.4->dash) (3.1.4)\n",
      "Requirement already satisfied: itsdangerous>=2.1.2 in c:\\python312\\lib\\site-packages (from Flask<3.1,>=1.0.4->dash) (2.2.0)\n",
      "Requirement already satisfied: click>=8.1.3 in c:\\python312\\lib\\site-packages (from Flask<3.1,>=1.0.4->dash) (8.1.8)\n",
      "Requirement already satisfied: blinker>=1.6.2 in c:\\python312\\lib\\site-packages (from Flask<3.1,>=1.0.4->dash) (1.9.0)\n",
      "Requirement already satisfied: narwhals>=1.15.1 in c:\\python312\\lib\\site-packages (from plotly>=5.0.0->dash) (1.32.0)\n",
      "Requirement already satisfied: packaging in c:\\python312\\lib\\site-packages (from plotly>=5.0.0->dash) (24.1)\n",
      "Requirement already satisfied: six>=1.5 in c:\\python312\\lib\\site-packages (from python-dateutil>=2.8.2->pandas) (1.16.0)\n",
      "Requirement already satisfied: MarkupSafe>=2.1.1 in c:\\python312\\lib\\site-packages (from Werkzeug<3.1->dash) (3.0.1)\n",
      "Requirement already satisfied: zipp>=3.20 in c:\\python312\\lib\\site-packages (from importlib-metadata->dash) (3.21.0)\n",
      "Requirement already satisfied: colorama in c:\\python312\\lib\\site-packages (from click>=8.1.3->Flask<3.1,>=1.0.4->dash) (0.4.6)\n",
      "Note: you may need to restart the kernel to use updated packages.\n"
     ]
    }
   ],
   "source": [
    "%pip install pandas openpyxl mysql-connector-python sqlalchemy pymysql requests xlrd dash cryptography\n"
   ]
  },
  {
   "cell_type": "markdown",
   "metadata": {},
   "source": [
    "Fazendo as importações"
   ]
  },
  {
   "cell_type": "code",
   "execution_count": 13,
   "metadata": {},
   "outputs": [],
   "source": [
    "import pandas as pd\n",
    "from sqlalchemy import create_engine, text\n",
    "import requests\n",
    "import xlrd\n",
    "import os\n",
    "from dash import Dash, html, dcc, html, Input, Output, State, dash\n",
    "import plotly.express as px\n",
    "import pandas as pd\n",
    "\n",
    "\n",
    "\n"
   ]
  },
  {
   "cell_type": "markdown",
   "metadata": {},
   "source": [
    "API para o download dos arquivos "
   ]
  },
  {
   "cell_type": "code",
   "execution_count": 14,
   "metadata": {},
   "outputs": [
    {
     "name": "stdout",
     "output_type": "stream",
     "text": [
      "Arquivo baixado e salvo com sucesso!\n"
     ]
    }
   ],
   "source": [
    "\n",
    "url_gdppc = \"https://dataverse.nl/api/access/datafile/421302\"\n",
    "\n",
    "if requests.get(url_gdppc).status_code == 200:  \n",
    "    with open(\"gdppc.xlsx\", \"wb\") as f:\n",
    "        f.write(requests.get(url_gdppc).content) \n",
    "    print(\"Arquivo baixado e salvo com sucesso!\")\n",
    "else:\n",
    "    print(\"Erro ao baixar o arquivo:\", requests.get(url_gdppc).status_code)\n"
   ]
  },
  {
   "cell_type": "code",
   "execution_count": 15,
   "metadata": {},
   "outputs": [
    {
     "name": "stdout",
     "output_type": "stream",
     "text": [
      "Arquivo baixado e salvo com sucesso!\n"
     ]
    }
   ],
   "source": [
    "\n",
    "url_gpd = \"https://www.imf.org/external/datamapper//export/excel.php?indicator=d\"\n",
    "\n",
    "if requests.get(url_gpd).status_code == 200:  \n",
    "    with open(\"gpd.xls\", \"wb\") as f:\n",
    "        f.write(requests.get(url_gpd).content)  \n",
    "    print(\"Arquivo baixado e salvo com sucesso!\")\n",
    "else:\n",
    "    print(\"Erro ao baixar o arquivo:\", requests.get(url_gpd).status_code)\n",
    "   "
   ]
  },
  {
   "cell_type": "markdown",
   "metadata": {},
   "source": [
    "Criando conexões com banco"
   ]
  },
  {
   "cell_type": "markdown",
   "metadata": {},
   "source": [
    "                                CONEXÃO COM SQL SERVER (Caso queira utilizar MySQL ignore a proxima parte)\n",
    "\n",
    "                                Para conexão local (localhost) não precisa trocar as informações das variaveis server e database"
   ]
  },
  {
   "cell_type": "code",
   "execution_count": null,
   "metadata": {},
   "outputs": [
    {
     "name": "stdout",
     "output_type": "stream",
     "text": [
      "Banco foi criado com sucesso\n"
     ]
    }
   ],
   "source": [
    "\n",
    "server = \"localhost\"  \n",
    "database = \"master\"  \n",
    "db_name = \"desafioUnaGabriel\"  \n",
    "\n",
    "\n",
    "\n",
    "\n",
    "# Criar engine para se conectar ao SQL Server\n",
    "engine = create_engine(f\"mssql+pyodbc://@{server}/{database}?trusted_connection=yes&driver=ODBC+Driver+17+for+SQL+Server\")\n",
    "\n",
    "# Criar o banco de dados se não existir\n",
    "  # Substitua pelo nome do banco desejado\n",
    "\n",
    "with engine.connect() as connection:\n",
    "    connection.execution_options(isolation_level=\"AUTOCOMMIT\").execute(text(f\"IF NOT EXISTS (SELECT name FROM sys.databases WHERE name = '{db_name}') CREATE DATABASE {db_name}\"))\n",
    "\n",
    "# Conectar-se ao novo banco de dados\n",
    "engine = create_engine(f\"mssql+pyodbc://@{server}/{db_name}?trusted_connection=yes&driver=ODBC+Driver+17+for+SQL+Server\")\n",
    "\n",
    "print(\"Banco foi criado com sucesso\")"
   ]
  },
  {
   "cell_type": "markdown",
   "metadata": {},
   "source": [
    "                                CONEXÃO COM MYSQL (Caso deseje utilizar o SQL SERVER volte para a parte de cima e ignore essa)\n",
    "\n",
    "                                Conexão padrão pelo root e no localhost, troque pela sua senha do MySQL server e caso desejar troque o nome da base na variavel database (Obs: verifique antes de trocar se não há uma base existente igual a essa ou o nome que colocar em database)"
   ]
  },
  {
   "cell_type": "markdown",
   "metadata": {},
   "source": [
    "CONEXÃO COM MYSQL (OBS: coloque as informações do MySQL da sua maquina e garanta que o servidor esteja rodando para realizar a conexão)"
   ]
  },
  {
   "cell_type": "code",
   "execution_count": null,
   "metadata": {},
   "outputs": [
    {
     "name": "stdout",
     "output_type": "stream",
     "text": [
      "Banco foi criado com sucesso\n"
     ]
    }
   ],
   "source": [
    "user = \"root\"\n",
    "senha = \"\"\n",
    "server = \"localhost\"\n",
    "database = \"desafioUnaGabriel\"\n",
    "\n",
    "engine = create_engine(f\"mysql+pymysql://{user}:{senha}@{server}/\") \n",
    "\n",
    "with engine.connect() as connection:\n",
    "    connection.execution_options(isolation_level=\"AUTOCOMMIT\").execute(text(f'CREATE DATABASE IF NOT EXISTS {database}')) \n",
    "\n",
    "engine = create_engine(f\"mysql+pymysql://{user}:{senha}@{server}/{database}\")\n",
    "\n",
    "print('Banco foi criado com sucesso')\n",
    "\n"
   ]
  },
  {
   "cell_type": "markdown",
   "metadata": {},
   "source": [
    "Limpeza e exportação dos dados para o banco de dados"
   ]
  },
  {
   "cell_type": "code",
   "execution_count": 17,
   "metadata": {},
   "outputs": [
    {
     "name": "stdout",
     "output_type": "stream",
     "text": [
      "Arquivo excluído\n"
     ]
    }
   ],
   "source": [
    "df_gdppc = pd.read_excel(\"gdppc.xlsx\", sheet_name=\"Full data\")\n",
    "df_gdppc = df_gdppc.dropna() # remove nulos \n",
    "df_gdppc.to_excel(\"gdppc_clean.xlsx\", index=False)# arquivo excel com dados limpos\n",
    "\n",
    "#excluir o arquivo original\n",
    "if os.path.exists(\"gdppc.xlsx\"):\n",
    "    os.remove(\"gdppc.xlsx\")\n",
    "    print(\"Arquivo excluído\")\n",
    "else:\n",
    "    print(\"O arquivo não existe.\")\n"
   ]
  },
  {
   "cell_type": "code",
   "execution_count": 18,
   "metadata": {},
   "outputs": [
    {
     "data": {
      "text/plain": [
       "<bound method DataFrame.info of     Gross public debt, percent of GDP (% of GDP)     1800     1801     1802  \\\n",
       "0                                            NaN      NaN      NaN      NaN   \n",
       "1                                        Albania  no data  no data  no data   \n",
       "2                                        Algeria  no data  no data  no data   \n",
       "3                                         Angola  no data  no data  no data   \n",
       "4                            Antigua and Barbuda  no data  no data  no data   \n",
       "..                                           ...      ...      ...      ...   \n",
       "149                                    Venezuela  no data  no data  no data   \n",
       "150                                      Vietnam  no data  no data  no data   \n",
       "151                                        Yemen  no data  no data  no data   \n",
       "152                                          NaN      NaN      NaN      NaN   \n",
       "153                                   ©IMF, 2024      NaN      NaN      NaN   \n",
       "\n",
       "        1803     1804     1805     1806     1807     1808  ...       2014  \\\n",
       "0        NaN      NaN      NaN      NaN      NaN      NaN  ...        NaN   \n",
       "1    no data  no data  no data  no data  no data  no data  ...  71.992300   \n",
       "2    no data  no data  no data  no data  no data  no data  ...   6.852797   \n",
       "3    no data  no data  no data  no data  no data  no data  ...  35.274186   \n",
       "4    no data  no data  no data  no data  no data  no data  ...  91.878744   \n",
       "..       ...      ...      ...      ...      ...      ...  ...        ...   \n",
       "149  no data  no data  no data  no data  no data  no data  ...  84.896728   \n",
       "150  no data  no data  no data  no data  no data  no data  ...  43.642335   \n",
       "151  no data  no data  no data  no data  no data  no data  ...  48.949944   \n",
       "152      NaN      NaN      NaN      NaN      NaN      NaN  ...        NaN   \n",
       "153      NaN      NaN      NaN      NaN      NaN      NaN  ...        NaN   \n",
       "\n",
       "           2015        2016        2017        2018        2019        2020  \\\n",
       "0           NaN         NaN         NaN         NaN         NaN         NaN   \n",
       "1     73.716336   73.324410   71.894783   69.472043   67.367669   75.772303   \n",
       "2      7.731179   18.094430   24.015146   34.492665   40.881598   45.967375   \n",
       "3     50.385820   66.670005   60.492126   82.541362  101.372846  119.145419   \n",
       "4     92.108117   83.055941   88.389158   84.332698   81.640002  100.524604   \n",
       "..          ...         ...         ...         ...         ...         ...   \n",
       "149  129.762232  138.404232  133.609595  175.313126  206.020126  329.095913   \n",
       "150   46.116620   47.879786   46.621125   43.798013   40.993334   41.319086   \n",
       "151   57.737250   76.505230   83.788551   86.897102   91.478351   86.997026   \n",
       "152         NaN         NaN         NaN         NaN         NaN         NaN   \n",
       "153         NaN         NaN         NaN         NaN         NaN         NaN   \n",
       "\n",
       "           2021        2022        2023  \n",
       "0           NaN         NaN         NaN  \n",
       "1     75.217741   65.545526   59.811263  \n",
       "2     55.134496   48.084933   48.618767  \n",
       "3     74.292159   56.108160   73.682142  \n",
       "4     92.995378   81.977209   76.833172  \n",
       "..          ...         ...         ...  \n",
       "149  249.711722  160.666053  146.261879  \n",
       "150   39.237182   34.737226   34.370721  \n",
       "151   75.914176   65.835177   81.205318  \n",
       "152         NaN         NaN         NaN  \n",
       "153         NaN         NaN         NaN  \n",
       "\n",
       "[154 rows x 225 columns]>"
      ]
     },
     "execution_count": 18,
     "metadata": {},
     "output_type": "execute_result"
    }
   ],
   "source": [
    "workbook = xlrd.open_workbook('gpd.xls', ignore_workbook_corruption=True) #leitura de arquivo xls\n",
    "df_gpd = pd.read_excel(workbook)\n",
    "df_gpd.info"
   ]
  },
  {
   "cell_type": "markdown",
   "metadata": {},
   "source": [
    "Limpeza e exportação dos dados para o banco de dados(gpd)"
   ]
  },
  {
   "cell_type": "code",
   "execution_count": 19,
   "metadata": {},
   "outputs": [
    {
     "name": "stderr",
     "output_type": "stream",
     "text": [
      "C:\\Users\\lilri\\AppData\\Local\\Temp\\ipykernel_6720\\1891571809.py:4: FutureWarning:\n",
      "\n",
      "A value is trying to be set on a copy of a DataFrame or Series through chained assignment using an inplace method.\n",
      "The behavior will change in pandas 3.0. This inplace method will never work because the intermediate object on which we are setting values always behaves as a copy.\n",
      "\n",
      "For example, when doing 'df[col].method(value, inplace=True)', try using 'df.method({col: value}, inplace=True)' or df[col] = df[col].method(value) instead, to perform the operation inplace on the original object.\n",
      "\n",
      "\n",
      "\n"
     ]
    },
    {
     "name": "stdout",
     "output_type": "stream",
     "text": [
      "Arquivo excluído\n"
     ]
    }
   ],
   "source": [
    "df_gpd = df_gpd.rename(columns={\"Gross public debt, percent of GDP (% of GDP)\" : \"country\"})\n",
    "u_df = df_gpd.melt(id_vars=[\"country\"], var_name=\"year\", value_name=\"gpd\")\n",
    "df_gpd = u_df\n",
    "df_gpd[\"gpd\"].replace(\"no data\", pd.NA, inplace=True)\n",
    "\n",
    "df_gpd = df_gpd.dropna()\n",
    "\n",
    "df_gpd.to_excel(\"gpd_clean.xlsx\", index=False)\n",
    "df_gpd.info\n",
    "df_gpd = pd.read_excel(\"gpd_clean.xlsx\", sheet_name=\"Sheet1\")\n",
    "\n",
    "if os.path.exists(\"gpd.xls\"):\n",
    "    os.remove(\"gpd.xls\")\n",
    "    print(\"Arquivo excluído\")\n",
    "else:\n",
    "    print(\"O arquivo não existe.\")"
   ]
  },
  {
   "cell_type": "code",
   "execution_count": 20,
   "metadata": {},
   "outputs": [
    {
     "name": "stdout",
     "output_type": "stream",
     "text": [
      "Dados Exportados!\n"
     ]
    }
   ],
   "source": [
    "df_gdppc.to_sql(\"gdppc\", con=engine, if_exists=\"replace\", index=False)\n",
    "df_gpd.to_sql(\"gpd\", con=engine, if_exists=\"replace\", index=False)\n",
    "\n",
    "print(\"Dados Exportados!\")"
   ]
  },
  {
   "cell_type": "code",
   "execution_count": 9,
   "metadata": {},
   "outputs": [
    {
     "name": "stdout",
     "output_type": "stream",
     "text": [
      "      countrycode      country                     region  year        gdppc  \\\n",
      "0             AFG  Afghanistan  South and South East Asia  1950  1156.000000   \n",
      "1             AFG  Afghanistan  South and South East Asia  1951  1170.000000   \n",
      "2             AFG  Afghanistan  South and South East Asia  1952  1189.000000   \n",
      "3             AFG  Afghanistan  South and South East Asia  1953  1240.000000   \n",
      "4             AFG  Afghanistan  South and South East Asia  1954  1245.000000   \n",
      "...           ...          ...                        ...   ...          ...   \n",
      "15956         ZWE     Zimbabwe         Sub Saharan Africa  2018  1900.199191   \n",
      "15957         ZWE     Zimbabwe         Sub Saharan Africa  2019  1753.024449   \n",
      "15958         ZWE     Zimbabwe         Sub Saharan Africa  2020  1585.972804   \n",
      "15959         ZWE     Zimbabwe         Sub Saharan Africa  2021  1687.253154   \n",
      "15960         ZWE     Zimbabwe         Sub Saharan Africa  2022  1703.529373   \n",
      "\n",
      "            pop  \n",
      "0       8150.00  \n",
      "1       8284.00  \n",
      "2       8425.00  \n",
      "3       8573.00  \n",
      "4       8728.00  \n",
      "...         ...  \n",
      "15956  14096.56  \n",
      "15957  14344.59  \n",
      "15958  14614.82  \n",
      "15959  14900.01  \n",
      "15960  15204.66  \n",
      "\n",
      "[15961 rows x 6 columns]\n"
     ]
    }
   ],
   "source": [
    "#Teste para ver como os dados estão dentro do banco\n",
    "\n",
    "query_gdppc = \"SELECT * FROM gdppc\"  \n",
    "df_teste_gdppc = pd.read_sql(query_gdppc, engine)\n",
    "\n",
    "print(df_teste_gdppc)\n"
   ]
  },
  {
   "cell_type": "code",
   "execution_count": 10,
   "metadata": {},
   "outputs": [
    {
     "name": "stdout",
     "output_type": "stream",
     "text": [
      "             country  year         gpd\n",
      "0             Sweden  1800   34.327801\n",
      "1     United Kingdom  1800  176.302994\n",
      "2      United States  1800   18.091101\n",
      "3             Sweden  1801   34.250599\n",
      "4     United Kingdom  1801  178.988007\n",
      "...              ...   ...         ...\n",
      "9048      Uzbekistan  2023   32.514054\n",
      "9049         Vanuatu  2023   41.858286\n",
      "9050       Venezuela  2023  146.261879\n",
      "9051         Vietnam  2023   34.370721\n",
      "9052           Yemen  2023   81.205318\n",
      "\n",
      "[9053 rows x 3 columns]\n"
     ]
    }
   ],
   "source": [
    "#Teste para ver como os dados estão dentro do banco\n",
    "\n",
    "query_gpd = \"SELECT * FROM gpd\"  \n",
    "df_teste_gpd = pd.read_sql(query_gpd, engine)\n",
    "\n",
    "print(df_teste_gpd)"
   ]
  },
  {
   "cell_type": "code",
   "execution_count": null,
   "metadata": {},
   "outputs": [
    {
     "data": {
      "text/html": [
       "\n",
       "        <iframe\n",
       "            width=\"100%\"\n",
       "            height=\"650\"\n",
       "            src=\"http://127.0.0.1:8050/\"\n",
       "            frameborder=\"0\"\n",
       "            allowfullscreen\n",
       "            \n",
       "        ></iframe>\n",
       "        "
      ],
      "text/plain": [
       "<IPython.lib.display.IFrame at 0x124890c4260>"
      ]
     },
     "metadata": {},
     "output_type": "display_data"
    },
    {
     "name": "stderr",
     "output_type": "stream",
     "text": [
      "C:\\Users\\lilri\\AppData\\Local\\Temp\\ipykernel_6720\\2727963351.py:228: SettingWithCopyWarning:\n",
      "\n",
      "\n",
      "A value is trying to be set on a copy of a slice from a DataFrame.\n",
      "Try using .loc[row_indexer,col_indexer] = value instead\n",
      "\n",
      "See the caveats in the documentation: https://pandas.pydata.org/pandas-docs/stable/user_guide/indexing.html#returning-a-view-versus-a-copy\n",
      "\n",
      "C:\\Users\\lilri\\AppData\\Local\\Temp\\ipykernel_6720\\2727963351.py:235: SettingWithCopyWarning:\n",
      "\n",
      "\n",
      "A value is trying to be set on a copy of a slice from a DataFrame.\n",
      "Try using .loc[row_indexer,col_indexer] = value instead\n",
      "\n",
      "See the caveats in the documentation: https://pandas.pydata.org/pandas-docs/stable/user_guide/indexing.html#returning-a-view-versus-a-copy\n",
      "\n"
     ]
    }
   ],
   "source": [
    "\n",
    "\n",
    "\n",
    "\n",
    "app = Dash( suppress_callback_exceptions=True)\n",
    "\n",
    "app.config.suppress_callback_exceptions = True\n",
    "app.config.prevent_initial_callbacks = 'initial_duplicate'\n",
    "\n",
    "#---------------------------------------------------------------------------------------------------------------------------------------\n",
    "                                #UTILS PRIMEIRA PAGINA\n",
    "\n",
    "#lista dos paises desejados para o primeiro grafico\n",
    "filtro_paises_graph1 = [\n",
    "    \"Brazil\", \"China\", \"United States\", \"United Kingdom\", \"Venezuela (Bolivarian Republic of)\",\n",
    "    \"Russian Federation\", \"Ukraine\", \"Australia\", \"South Africa\", \"Qatar\"\n",
    "] \n",
    "\n",
    "df_gdppc_graph1 = df_gdppc[df_gdppc['country'].isin(filtro_paises_graph1)] #filtro dados por paises\n",
    "\n",
    "# Pegando o range dos anos e convertendo para int\n",
    "ano_min = int(df_gdppc_graph1['year'].min())\n",
    "ano_max = int(df_gdppc_graph1['year'].max())\n",
    "\n",
    "filtro_graph1 = list(df_gdppc_graph1['country'].unique())\n",
    "filtro_graph1.append(\"All\"),\n",
    "                                #FIM UTILS PRIMEIRA PAGINA\n",
    "\n",
    "#---------------------------------------------------------------------------------------------------------------------------------------\n",
    "\n",
    "                                #UTILS SEGUNDA PAGINA\n",
    "df_gdppc_graph2 = df_gdppc\n",
    "gdppc_usa = df_gdppc_graph2.loc[df_gdppc_graph2['country'] == 'United States', 'gdppc'].values[0]\n",
    "df_gdppc_graph2[\"percent_of_usa\"] = (df_gdppc_graph2[\"gdppc\"]/ gdppc_usa)\n",
    "\n",
    "                                #FIM UTILS SEGUNDA PAGINA\n",
    "\n",
    "#---------------------------------------------------------------------------------------------------------------------------------------\n",
    "\n",
    "                                #UTILS TERCEIRA PAGINA\n",
    "\n",
    "df_gpd_graph3 = df_gdppc.merge(df_gpd, on=['year', 'country'], how='inner')\n",
    "lista_paises_graph3 = df_gpd_graph3['country'].unique()\n",
    "\n",
    "df_gpd_graph3['gdppc'] = pd.to_numeric(df_gpd_graph3['gdppc'], errors='coerce')\n",
    "df_gpd_graph3['gpd'] = pd.to_numeric(df_gpd_graph3['gpd'], errors='coerce')\n",
    "df_gpd_graph3.to_sql('final', con=engine, if_exists='replace', index=False) #salvei no banco de dados o arquivo \"final\" com as tabelas de gdppc, gpd, percent_of_usa, pop, year, region, country, countrycode\n",
    "\n",
    "df_gpd_graph3['gpd'] = df_gpd_graph3['gpd'] * 100\n",
    "\n",
    "                                #FIM UTILS TERCEIRA PAGINA\n",
    "#---------------------------------------------------------------------------------------------------------------------------------------\n",
    "\n",
    "\n",
    "                                #SETANDO GRAFICOS E LAYOUT QUE POSSIBILITA TRANSIÇÃO DE PAGINAS\n",
    "\n",
    "fig_pagina1 = px.line(df_gdppc_graph1, x=\"year\", y=\"gdppc\", color=\"country\") #Grafico para a primeira\n",
    "fig_pagina2 = px.bar(df_gdppc_graph2, x=\"countrycode\", y=\"percent_of_usa\") #Grafico para a segunda pagina\n",
    "fig_pagina3 = px.line(df_gdppc_graph1, x=\"year\", y=\"gdppc\") #Grafico para a terceira pagina\n",
    "\n",
    "app.layout = html.Div([\n",
    "    dcc.Location(id='url', refresh=False), #para monitorar a url atual\n",
    "    html.Nav([\n",
    "        dcc.Link('Página 1 (PIB per Capita) |', href='/'),\n",
    "        dcc.Link('| Página 2 (Comparação PIB com % USA) |', href='/pagina2'),\n",
    "        dcc.Link('| Página 3 (Comparação PIB com % Brasil) ', href='/pagina3'),\n",
    "    ], style={'margin-bottom' : '20px', 'display' : 'flex', 'justify-content' : 'space-between', 'font-family':'Poppins, sans-serif'}),\n",
    "    html.Div(id='page-content', style={'font-family':'Poppins, sans-serif', 'backgrpund-color':'black'})\n",
    "])\n",
    "#---------------------------------------------------------------------------------------------------------------------------------------\n",
    "\n",
    "                                #LAYOUT\n",
    "#layout pagina 1\n",
    "page1_layout=html.Div([\n",
    "    html.H1(children='PIB per Capita dos Países selecionados', style={'font-family':'Poppins, sans-serif'}),\n",
    "    html.H3(children='Filtre por país', style={'font-family':'Poppins, sans-serif'}),\n",
    "        dcc.Dropdown(\n",
    "         options=[{'label': i, 'value': i} for i in filtro_graph1],\n",
    "         id='lista_paises',\n",
    "         value=\"All\",\n",
    "         style={'width': '50%', 'font-family':'Poppins, sans-serif'}\n",
    "         \n",
    "    ),\n",
    "\n",
    "       html.H3(children='Filtre por ano', style={'font-family':'Poppins, sans-serif'}),\n",
    "    \n",
    "    dcc.RangeSlider(\n",
    "    id='filtro_anos',\n",
    "    min=ano_min,\n",
    "    max=ano_max,\n",
    "    step=2,\n",
    "    marks={\n",
    "        ano_min: str(ano_min),\n",
    "        ano_max: str(ano_max)\n",
    "    },\n",
    "    value=[ano_min, ano_max]  # Valor inicial todos os anos\n",
    "    ),\n",
    "    html.Div([\n",
    "        html.Div(id='ano_min', children=f\"Min: {ano_min}\", style={'display': 'inline-block', 'padding': '10px','font-family':'Poppins, sans-serif'}),\n",
    "        html.Div(id='ano_max', children=f\"Max: {ano_max}\", style={'display': 'inline-block', 'padding': '10px', 'font-family':'Poppins, sans-serif'}),\n",
    "    ]),\n",
    "    \n",
    "    dcc.Graph(\n",
    "        id='graph_gdppc',\n",
    "        figure=fig_pagina1\n",
    "    ),\n",
    "\n",
    " \n",
    "]),\n",
    "\n",
    "\n",
    "#layout pagina 2\n",
    "page2_layout=html.Div([\n",
    "    html.H1(children='PIB per Capita em comparação com porcentagem do USA'),\n",
    "    html.H3(children='Filtros'),\n",
    "        html.H3(\"Selecione o Ano\"),\n",
    "    dcc.Dropdown(\n",
    "        id='filtro_ano_unico',\n",
    "        options=[{'label': str(ano), 'value': ano} for ano in range(ano_min, ano_max + 1)],\n",
    "        value=ano_max,  # Colocando o maior valor dentro de ano como padrão para o filtro\n",
    "        clearable=False,\n",
    "        style={'width': '50%'}\n",
    "    ),\n",
    "     \n",
    "\n",
    "    dcc.Graph(\n",
    "        id='graph_gdppc_%',\n",
    "        figure=fig_pagina2\n",
    "    )\n",
    "]),\n",
    "\n",
    "#layout pagina 3\n",
    "\n",
    "page3_layout = html.Div([\n",
    "    html.H1(\"Evolução do PIB per capita e PIB Total\"),\n",
    "    html.H3(\"Selecione um País\"),\n",
    "    dcc.Dropdown(\n",
    "        id='filtro_paises_pagina3',\n",
    "        options=[{'label': pais, 'value': pais} for pais in lista_paises_graph3],  \n",
    "        style={'width': '75%'},\n",
    "        value=lista_paises_graph3[0],  # Define o primeiro país como padrão\n",
    "        multi=False  # Permite selecionar apenas um país por vez\n",
    "    ),\n",
    "\n",
    "    dcc.Graph(id='graph_gdppc_gpd_linhas') ,\n",
    "\n",
    "    \n",
    "    \n",
    "    \n",
    "])\n",
    "\n",
    "\n",
    "\n",
    "                                #FIM DOS LAYOUTS\n",
    "\n",
    "#---------------------------------------------------------------------------------------------------------------------------------------\n",
    "                                #CALLBACK PARA MUDANÇAS DE PAGINAS\n",
    "\n",
    "@app.callback(\n",
    "    Output('page-content', 'children'),\n",
    "    [Input('url', 'pathname')]\n",
    ")\n",
    "def display_page(pathname):\n",
    "    if pathname == '/pagina2':\n",
    "        return page2_layout \n",
    "    elif pathname == '/pagina3':\n",
    "        return page3_layout\n",
    "    else:\n",
    "        return page1_layout  # Página inicial\n",
    "\n",
    "                                #FIM CALLBACK PARA MUDANÇAS DE PAGINAS\n",
    "\n",
    "#---------------------------------------------------------------------------------------------------------------------------------------\n",
    "\n",
    "                                #CALLBACK PRIMEIRA PAGINA\n",
    "\n",
    "@app.callback(\n",
    "    [Output('graph_gdppc', 'figure', allow_duplicate=True),\n",
    "     Output('ano_min', 'children'),\n",
    "     Output('ano_max', 'children')],\n",
    "    [Input('lista_paises', 'value'),\n",
    "     Input('filtro_anos', 'value')],\n",
    "    [State('url', 'pathname')]\n",
    ")\n",
    "def filtro_pagina1 (pais, anos, pathname):\n",
    "    if pathname != '/':\n",
    "        raise dash.exceptions.PreventUpdate\n",
    "\n",
    "    # Filtro do slider por anos\n",
    "    ano_min_value = anos[0]\n",
    "    ano_max_value = anos[1]\n",
    "\n",
    "    df_gdppc_graph1_filtrado = df_gdppc_graph1[\n",
    "        (df_gdppc_graph1['year'] >= ano_min_value) & \n",
    "        (df_gdppc_graph1['year'] <= ano_max_value)\n",
    "    ]\n",
    "    #Filtro por paises\n",
    "    if pais != \"All\":\n",
    "        df_gdppc_graph1_filtrado = df_gdppc_graph1_filtrado[df_gdppc_graph1_filtrado['country'] == pais]\n",
    "\n",
    "    # Cria o gráfico\n",
    "    fig = px.line(df_gdppc_graph1_filtrado, x=\"year\", y=\"gdppc\", color=\"country\", title=f'PIB per capita de {pais}')\n",
    "\n",
    "    # Atualiza os valores do slider\n",
    "    return fig, f\"Min: {ano_min_value}\", f\"Max: {ano_max_value}\"\n",
    "\n",
    "\n",
    "\n",
    "    \n",
    "\n",
    "                                #FIM CALLBACK PRIMEIRA PAGINA\n",
    "\n",
    "#---------------------------------------------------------------------------------------------------------------------------------------\n",
    "    \n",
    "                                #CALLBACK SEGUNDA PAGINA\n",
    "\n",
    "@app.callback(\n",
    "    Output('graph_gdppc_%', 'figure', allow_duplicate=True),\n",
    "    [Input('filtro_ano_unico', 'value')],\n",
    "    [State('url', 'pathname')]\n",
    ")\n",
    "def filtro_pagina2(selected_year, pathname):\n",
    "    if pathname != '/pagina2':\n",
    "        raise dash.exceptions.PreventUpdate\n",
    "\n",
    "    df_gdppc_graph2_filtrado = df_gdppc_graph2[df_gdppc_graph2['year'] == selected_year]\n",
    "\n",
    "    # Obtém o PIB dos EUA\n",
    "    gdppc_usa = df_gdppc_graph2_filtrado.loc[df_gdppc_graph2_filtrado['country'] == 'United States', 'gdppc'].values\n",
    "    if len(gdppc_usa) > 0:\n",
    "        gdppc_usa = gdppc_usa[0]\n",
    "        df_gdppc_graph2_filtrado['percent_of_usa'] = (df_gdppc_graph2_filtrado['gdppc'] / gdppc_usa) * 100\n",
    "\n",
    "        # Definir cores personalizadas (USA = Vermelho, Outros = Azul)\n",
    "        def definir_cor(pais):\n",
    "                if pais == 'United States':\n",
    "                    return 'USA' #Vermelho\n",
    "                return 'Outros' #Azul\n",
    "        df_gdppc_graph2_filtrado['color'] = df_gdppc_graph2_filtrado['country'].apply(definir_cor)\n",
    "\n",
    "        # Criar gráfico de barras com cores personalizadas\n",
    "        fig = px.bar(df_gdppc_graph2_filtrado, x='countrycode', y='percent_of_usa',  \n",
    "                     title=f'PIB % comparado ao USA ({selected_year})',\n",
    "                     color='color', \n",
    "                     color_discrete_map={'USA': '#BD0000', 'Outros': '#2596BE'})  # Mapeando cores\n",
    "\n",
    "    else:\n",
    "        fig = px.bar(title='Dados do USA não disponíveis para o ano selecionado')\n",
    "\n",
    "    return fig\n",
    "\n",
    "                                #FIM DOS CALLBACK SEGUNDA PAGINA\n",
    "\n",
    "#---------------------------------------------------------------------------------------------------------------------------------------\n",
    "\n",
    "                                #CALLBACK TERCEIRA PAGINA\n",
    "\n",
    "@app.callback(\n",
    "    Output('graph_gdppc_gpd_linhas', 'figure'),  \n",
    "    [Input('filtro_paises_pagina3', 'value')],  \n",
    "    [State('url', 'pathname')]  \n",
    ")\n",
    "def filtro_pagina3(pais_selecionado, pathname):\n",
    "    if pathname != '/pagina3':\n",
    "        raise dash.exceptions.PreventUpdate\n",
    "\n",
    "    # Garantia de que há um país selecionado\n",
    "    if not pais_selecionado:\n",
    "        pais_selecionado = lista_paises_graph3[0]  # Define um padrão caso nenhum seja escolhido\n",
    "\n",
    "    # Filtrar DataFrame pelo país selecionado\n",
    "    df_filtrado = df_gpd_graph3[df_gpd_graph3['country'] == pais_selecionado]\n",
    "\n",
    "    # Criar gráfico de linhas\n",
    "    fig = px.line(df_filtrado, x='year', y=['gdppc', 'gpd'], \n",
    "                  title=f'Evolução do PIB per Capita e PIB Total - {pais_selecionado}',\n",
    "                  labels={'value': 'Valor', 'variable': 'Métrica'},\n",
    "                  markers=True,\n",
    "                  color_discrete_map={'gdppc':'#2596BE', 'gpd':'#BD0000'})  \n",
    "    return fig\n",
    "\n",
    "\n",
    "if __name__ == '__main__':\n",
    "    app.run(debug=True)\n"
   ]
  },
  {
   "cell_type": "code",
   "execution_count": null,
   "metadata": {},
   "outputs": [],
   "source": [
    "print(df_gdppc)"
   ]
  }
 ],
 "metadata": {
  "kernelspec": {
   "display_name": "Python 3",
   "language": "python",
   "name": "python3"
  },
  "language_info": {
   "codemirror_mode": {
    "name": "ipython",
    "version": 3
   },
   "file_extension": ".py",
   "mimetype": "text/x-python",
   "name": "python",
   "nbconvert_exporter": "python",
   "pygments_lexer": "ipython3",
   "version": "3.12.2"
  }
 },
 "nbformat": 4,
 "nbformat_minor": 2
}
